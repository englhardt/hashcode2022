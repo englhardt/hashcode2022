{
 "cells": [
  {
   "cell_type": "code",
   "execution_count": null,
   "metadata": {},
   "outputs": [],
   "source": [
    "import os\n",
    "import itertools\n",
    "import multiprocessing\n",
    "from collections import namedtuple\n",
    "from operator import itemgetter\n",
    "from tqdm import tqdm\n",
    "from shutil import copyfile\n",
    "from datetime import datetime\n",
    "import pickle\n",
    "import random\n",
    "import operator\n",
    "from IPython.display import Javascript\n",
    "from collections import Counter, defaultdict\n",
    "import math\n",
    "import pandas as pd\n",
    "from copy import deepcopy\n",
    "\n",
    "save = '''\n",
    "require([\"base/js/namespace\"],function(Jupyter) {\n",
    "    Jupyter.notebook.save_checkpoint();\n",
    "});\n",
    "'''"
   ]
  },
  {
   "cell_type": "code",
   "execution_count": null,
   "metadata": {},
   "outputs": [],
   "source": [
    "INPUT_PATH = 'data'\n",
    "ROOT_OUTPUT_PATH = 'solutions'\n",
    "OUTPUT_PATH = os.path.join(ROOT_OUTPUT_PATH, \"test\")\n",
    "NB_NAME = 'hashcode2022.ipynb'\n",
    "SOLUTION_NAMES = nouns = ['people','history','way','art','world','information','map','two','family','government','health','system','computer','meat','year','thanks','music','person','reading','method','data','food','understanding','theory','law','bird','literature','problem','software','control','knowledge','power','ability','economics','love','internet','television','science','library','nature','fact','product','idea','temperature','investment','area','society','activity','story','industry','media','thing','oven','community','definition','safety','quality','development','language','management','player','variety','video','week','security','country','exam','movie','organization','equipment','physics','analysis','policy','series','thought','basis','boyfriend','direction','strategy','technology','army','camera','freedom','paper','environment','child','instance','month','truth','marketing','university','writing','article','department','difference','goal','news','audience','fishing','growth','income','marriage','user','combination','failure','meaning','medicine','philosophy','teacher','communication','night','chemistry','disease','disk','energy','nation','road','role','soup','advertising','location','success','addition','apartment','education','math','moment','painting','politics','attention','decision','event','property','shopping','student','wood','competition','distribution','entertainment','office','population','president','unit','category','cigarette','context','introduction','opportunity','performance','driver','flight','length','magazine','newspaper','relationship','teaching','cell','dealer','debate','finding','lake','member','message','phone','scene','appearance','association','concept','customer','death','discussion','housing','inflation','insurance','mood','woman','advice','blood','effort','expression','importance','opinion','payment','reality','responsibility','situation','skill','statement','wealth','application','city','county','depth','estate','foundation','grandmother','heart','perspective','photo','recipe','studio','topic','collection','depression','imagination','passion','percentage','resource','setting','ad','agency','college','connection','criticism','debt','description','memory','patience','secretary','solution','administration','aspect','attitude','director','personality','psychology','recommendation','response','selection','storage','version','alcohol','argument','complaint','contract','emphasis','highway','loss','membership','possession','preparation','steak','union','agreement','cancer','currency','employment','engineering','entry','interaction','limit','mixture','preference','region','republic','seat','tradition','virus','actor','classroom','delivery','device','difficulty','drama','election','engine','football','guidance','hotel','match','owner','priority','protection','suggestion','tension','variation','anxiety','atmosphere','awareness','bread','climate','comparison','confusion','construction','elevator','emotion','employee','employer','guest','height','leadership','mall','manager','operation','recording','respect','sample','transportation','boring','charity','cousin','disaster','editor','efficiency','excitement','extent','feedback','guitar','homework','leader','mom','outcome','permission','presentation','promotion','reflection','refrigerator','resolution','revenue','session','singer','tennis','basket','bonus','cabinet','childhood','church','clothes','coffee','dinner','drawing','hair','hearing','initiative','judgment','lab','measurement','mode','mud','orange','poetry','police','possibility','procedure','queen','ratio','relation','restaurant','satisfaction','sector','signature','significance','song','tooth','town','vehicle','volume','wife','accident','airport','appointment','arrival','assumption','baseball','chapter','committee','conversation','database','enthusiasm','error','explanation','farmer','gate','girl','hall','historian','hospital','injury','instruction','maintenance','manufacturer','meal','perception','pie','poem','presence','proposal','reception','replacement','revolution','river','son','speech','tea','village','warning','winner','worker','writer','assistance','breath','buyer','chest','chocolate','conclusion','contribution','cookie','courage','dad','desk','drawer','establishment','examination','garbage','grocery','honey','impression','improvement','independence','insect','inspection','inspector','king','ladder','menu','penalty','piano','potato','profession','professor','quantity','reaction','requirement','salad','sister','supermarket','tongue','weakness','wedding','affair','ambition','analyst','apple','assignment','assistant','bathroom','bedroom','beer','birthday','celebration','championship','cheek','client','consequence','departure','diamond','dirt','ear','fortune','friendship','funeral','gene','girlfriend','hat','indication','intention','lady','midnight','negotiation','obligation','passenger','pizza','platform','poet','pollution','recognition','reputation','shirt','sir','speaker','stranger','surgery','sympathy','tale','throat','trainer','uncle','youth','time','work','film','water','money','example','while','business','study','game','life','form','air','day','place','number','part','field','fish','back','process','heat','hand','experience','job','book','end','point','type','home','economy','value','body','market','guide','interest','state','radio','course','company','price','size','card','list','mind','trade','line','care','group','risk','word','fat','force','key','light','training','name','school','top','amount','level','order','practice','research','sense','service','piece','web','boss','sport','fun','house','page','term','test','answer','sound','focus','matter','kind','soil','board','oil','picture','access','garden','range','rate','reason','future','site','demand','exercise','image','case','cause','coast','action','age','bad','boat','record','result','section','building','mouse','cash','class','nothing','period','plan','store','tax','side','subject','space','rule','stock','weather','chance','figure','man','model','source','beginning','earth','program','chicken','design','feature','head','material','purpose','question','rock','salt','act','birth','car','dog','object','scale','sun','note','profit','rent','speed','style','war','bank','craft','half','inside','outside','standard','bus','exchange','eye','fire','position','pressure','stress','advantage','benefit','box','frame','issue','step','cycle','face','item','metal','paint','review','room','screen','structure','view','account','ball','discipline','medium','share','balance','bit','black','bottom','choice','gift','impact','machine','shape','tool','wind','address','average','career','culture','morning','pot','sign','table','task','condition','contact','credit','egg','hope','ice','network','north','square','attempt','date','effect','link','post','star','voice','capital','challenge','friend','self','shot','brush','couple','exit','front','function','lack','living','plant','plastic','spot','summer','taste','theme','track','wing','brain','button','click','desire','foot','gas','influence','notice','rain','wall','base','damage','distance','feeling','pair','savings','staff','sugar','target','text','animal','author','budget','discount','file','ground','lesson','minute','officer','phase','reference','register','sky','stage','stick','title','trouble','bowl','bridge','campaign','character','club','edge','evidence','fan','letter','lock','maximum','novel','option','pack','park','plenty','quarter','skin','sort','weight','baby','background','carry','dish','factor','fruit','glass','joint','master','muscle','red','strength','traffic','trip','vegetable','appeal','chart','gear','ideal','kitchen','land','log','mother','net','party','principle','relative','sale','season','signal','spirit','street','tree','wave','belt','bench','commission','copy','drop','minimum','path','progress','project','sea','south','status','stuff','ticket','tour','angle','blue','breakfast','confidence','daughter','degree','doctor','dot','dream','duty','essay','father','fee','finance','hour','juice','luck','milk','mouth','peace','pipe','stable','storm','substance','team','trick','afternoon','bat','beach','blank','catch','chain','consideration','cream','crew','detail','gold','interview','kid','mark','mission','pain','pleasure','score','screw','sex','shop','shower','suit','tone','window','agent','band','bath','block','bone','calendar','candidate','cap','coat','contest','corner','court','cup','district','door','east','finger','garage','guarantee','hole','hook','implement','layer','lecture','lie','manner','meeting','nose','parking','partner','profile','rice','routine','schedule','swimming','telephone','tip','winter','airline','bag','battle','bed','bill','bother','cake','code','curve','designer','dimension','dress','ease','emergency','evening','extension','farm','fight','gap','grade','holiday','horror','horse','host','husband','loan','mistake','mountain','nail','noise','occasion','package','patient','pause','phrase','proof','race','relief','sand','sentence','shoulder','smoke','stomach','string','tourist','towel','vacation','west','wheel','wine','arm','aside','associate','bet','blow','border','branch','breast','brother','buddy','bunch','chip','coach','cross','document','draft','dust','expert','floor','god','golf','habit','iron','judge','knife','landscape','league','mail','mess','native','opening','parent','pattern','pin','pool','pound','request','salary','shame','shelter','shoe','silver','tackle','tank','trust','assist','bake','bar','bell','bike','blame','boy','brick','chair','closet','clue','collar','comment','conference','devil','diet','fear','fuel','glove','jacket','lunch','monitor','mortgage','nurse','pace','panic','peak','plane','reward','row','sandwich','shock','spite','spray','surprise','till','transition','weekend','welcome','yard','alarm','bend','bicycle','bite','blind','bottle','cable','candle','clerk','cloud','concert','counter','flower','grandfather','harm','knee','lawyer','leather','load','mirror','neck','pension','plate','purple','ruin','ship','skirt','slice','snow','specialist','stroke','switch','trash','tune','zone','anger','award','bid','bitter','boot','bug','camp','candy','carpet','cat','champion','channel','clock','comfort','cow','crack','engineer','entrance','fault','grass','guy','hell','highlight','incident','island','joke','jury','leg','lip','mate','motor','nerve','passage','pen','pride','priest','prize','promise','resident','resort','ring','roof','rope','sail','scheme','script','sock','station','toe','tower','truck','witness','a','you','it','can','will','if','one','many','most','other','use','make','good','look','help','go','great','being','few','might','still','public','read','keep','start','give','human','local','general','she','specific','long','play','feel','high','tonight','put','common','set','change','simple','past','big','possible','particular','today','major','personal','current','national','cut','natural','physical','show','try','check','second','call','move','pay','let','increase','single','individual','turn','ask','buy','guard','hold','main','offer','potential','professional','international','travel','cook','alternative','following','special','working','whole','dance','excuse','cold','commercial','low','purchase','deal','primary','worth','fall','necessary','positive','produce','search','present','spend','talk','creative','tell','cost','drive','green','support','glad','remove','return','run','complex','due','effective','middle','regular','reserve','independent','leave','original','reach','rest','serve','watch','beautiful','charge','active','break','negative','safe','stay','visit','visual','affect','cover','report','rise','walk','white','beyond','junior','pick','unique','anything','classic','final','lift','mix','private','stop','teach','western','concern','familiar','fly','official','broad','comfortable','gain','maybe','rich','save','stand','young','heavy','hello','lead','listen','valuable','worry','handle','leading','meet','release','sell','finish','normal','press','ride','secret','spread','spring','tough','wait','brown','deep','display','flow','hit','objective','shoot','touch','cancel','chemical','cry','dump','extreme','push','conflict','eat','fill','formal','jump','kick','opposite','pass','pitch','remote','total','treat','vast','abuse','beat','burn','deposit','print','raise','sleep','somewhere','advance','anywhere','consist','dark','double','draw','equal','fix','hire','internal','join','kill','sensitive','tap','win','attack','claim','constant','drag','drink','guess','minor','pull','raw','soft','solid','wear','weird','wonder','annual','count','dead','doubt','feed','forever','impress','nobody','repeat','round','sing','slide','strip','whereas','wish','combine','command','dig','divide','equivalent','hang','hunt','initial','march','mention','spiritual','survey','tie','adult','brief','crazy','escape','gather','hate','prior','repair','rough','sad','scratch','sick','strike','employ','external','hurt','illegal','laugh','lay','mobile','nasty','ordinary','respond','royal','senior','split','strain','struggle','swim','train','upper','wash','yellow','convert','crash','dependent','fold','funny','grab','hide','miss','permit','quote','recover','resolve','roll','sink','slip','spare','suspect','sweet','swing','twist','upstairs','usual','abroad','brave','calm','concentrate','estimate','grand','male','mine','prompt','quiet','refuse','regret','reveal','rush','shake','shift','shine','steal','suck','surround','anybody','bear','brilliant','dare','dear','delay','drunk','female','hurry','inevitable','invite','kiss','neat','pop','punch','quit','reply','representative','resist','rip','rub','silly','smile','spell','stretch','stupid','tear','temporary','tomorrow','wake','wrap','yesterday']\n",
    "global INPUT_PATH, ROOT_OUTPUT_PATH, OUTPUT_PATH, NB_NAME"
   ]
  },
  {
   "cell_type": "markdown",
   "metadata": {},
   "source": [
    "Solution runner and writer."
   ]
  },
  {
   "cell_type": "code",
   "execution_count": null,
   "metadata": {},
   "outputs": [],
   "source": [
    "def mk_output_dir():\n",
    "    now = datetime.now()\n",
    "    current_time = now.strftime(\"%H%M%S\")\n",
    "    simple_name = SOLUTION_NAMES[len(os.listdir(ROOT_OUTPUT_PATH))]\n",
    "    OUTPUT_PATH = os.path.join(ROOT_OUTPUT_PATH, f\"{current_time}_{simple_name}_{abs(hash(datetime.now()))})\")\n",
    "    os.makedirs(OUTPUT_PATH, exist_ok=True)\n",
    "    return OUTPUT_PATH\n",
    "\n",
    "def write_bresult(s):\n",
    "    with open(os.path.join(OUTPUT_PATH, \"res.pkl\"), \"wb\") as f:\n",
    "        pickle.dump(s, f)\n",
    "\n",
    "def load_bresult(s):\n",
    "    with open(os.path.join(ROOT_OUTPUT_PATH, s, \"res.pkl\"), \"rb\") as f:\n",
    "        return pickle.load(f)\n",
    "\n",
    "def run(i):\n",
    "    parsed_input = parse_input(os.path.join(INPUT_PATH, i))\n",
    "    s = compute(parsed_input)\n",
    "    v = score(parsed_input, s)\n",
    "    print(f\"%s: \\t\\t{v:,}\" % (i.split(\"_\")[0]))\n",
    "    with open(os.path.join(OUTPUT_PATH, f\"{i}_result\"), \"w\") as f:\n",
    "        f.writelines(map(lambda x: f\"{x}\\n\", format_output(s)))\n",
    "    return s, v\n",
    "\n",
    "def new_sol(x=None):\n",
    "    global OUTPUT_PATH\n",
    "    OUTPUT_PATH = mk_output_dir()\n",
    "    files = sorted([x for x in os.listdir(INPUT_PATH) if not x.startswith(\".\")])\n",
    "    if x is not None:\n",
    "        files = [f for f in files if f.startswith(x)]\n",
    "    print(files)\n",
    "    # multiprocessing\n",
    "    #pool = multiprocessing.Pool(processes=len(files))\n",
    "    #res = pool.map(run, files)\n",
    "    # sequential\n",
    "    res = list(map(run, files))\n",
    "    s, scores = list(map(itemgetter(0), res)), list(map(itemgetter(1), res))\n",
    "    print(f\"------------------------------------\")\n",
    "    print(f\"Total: \\t\\t{sum(scores):,}\")\n",
    "    #pool.close()\n",
    "    write_bresult(s)\n",
    "    Javascript(save)\n",
    "    copyfile(os.path.join(os.getcwd(), NB_NAME), os.path.join(OUTPUT_PATH, NB_NAME))\n",
    "    return s"
   ]
  },
  {
   "cell_type": "markdown",
   "metadata": {},
   "source": [
    "---"
   ]
  },
  {
   "cell_type": "markdown",
   "metadata": {},
   "source": [
    "Data structures"
   ]
  },
  {
   "cell_type": "code",
   "execution_count": null,
   "metadata": {},
   "outputs": [],
   "source": [
    "Meta = namedtuple('Meta', 'file_name num_contributors num_projects')\n",
    "Contributor = namedtuple('Contributor', 'id name num_skills skills')\n",
    "Skill = namedtuple('Skill', 'name level')\n",
    "Project = namedtuple('Project', 'id name num_days score best_before num_roles requirements')\n",
    "Schedule = namedtuple('Schedule', 'name contributors')"
   ]
  },
  {
   "cell_type": "markdown",
   "metadata": {},
   "source": [
    "Input parsing and output formatting (not writing)"
   ]
  },
  {
   "cell_type": "code",
   "execution_count": null,
   "metadata": {},
   "outputs": [],
   "source": [
    "def parse_input(fname):\n",
    "    with open(fname) as f:\n",
    "        raw = f.read().splitlines()\n",
    "        num_contributors, num_projects = list(map(int, raw[0].split()))\n",
    "        contributors, projects = [], []\n",
    "        i = 1\n",
    "        for j in range(num_contributors):\n",
    "            name, num_skills = raw[i].split()\n",
    "            num_skills = int(num_skills)\n",
    "            skills = []\n",
    "            i += 1\n",
    "            for _ in range(num_skills):\n",
    "                skill_raw = raw[i].split()\n",
    "                skills.append(Skill(skill_raw[0], int(skill_raw[1])))\n",
    "                i += 1\n",
    "            contributors.append(Contributor(j, name, num_skills, skills))\n",
    "        for j in range(num_projects):\n",
    "            raw_project = raw[i].split()\n",
    "            name = raw_project[0]\n",
    "            num_days, score, best_before, num_roles = list(map(int, raw_project[1:]))\n",
    "            i += 1\n",
    "            requirements = []\n",
    "            for _ in range(num_roles):\n",
    "                skill_raw = raw[i].split()\n",
    "                requirements.append(Skill(skill_raw[0], int(skill_raw[1])))\n",
    "                i += 1\n",
    "            projects.append(Project(j, name, num_days, score, best_before, num_roles, requirements))\n",
    "        return Meta(os.path.basename(fname), num_contributors, num_projects), contributors, projects\n",
    "\n",
    "def format_output(out):\n",
    "    r = []\n",
    "    r.append(f'{len(out)}')\n",
    "    for s in out:\n",
    "        r.append(s.name)\n",
    "        r.append(' '.join([c.name for c in s.contributors]))\n",
    "    return r"
   ]
  },
  {
   "cell_type": "markdown",
   "metadata": {},
   "source": [
    "Scoring function"
   ]
  },
  {
   "cell_type": "code",
   "execution_count": null,
   "metadata": {},
   "outputs": [],
   "source": [
    "def score(parsed_input, sol):\n",
    "    meta, contributors, projects  = parsed_input\n",
    "    max_time = max([p.best_before + p.num_days for p in projects])\n",
    "    contributor_t2r = defaultdict(int)\n",
    "    project_lookup = {p.name: p for p in projects}\n",
    "    pending = set(s.name for s in sol)\n",
    "    score = 0\n",
    "    for t in range(max_time):\n",
    "        for s in sol:\n",
    "            if s.name in pending and all(contributor_t2r[c.id] == 0 for c in s.contributors):\n",
    "                # start project\n",
    "                pending.remove(s.name)\n",
    "                for c in s.contributors:\n",
    "                    contributor_t2r[c.id] = project_lookup[s.name].num_days\n",
    "                delay = max(0, t + project_lookup[s.name].num_days - project_lookup[s.name].best_before)\n",
    "                #print(f'[{t}] Running {s.name} that adds {project_lookup[s.name].score - delay} points')\n",
    "                score += max(0, project_lookup[s.name].score - delay)\n",
    "        for c, v in contributor_t2r.items():\n",
    "            contributor_t2r[c] = max(0, v - 1)\n",
    "    return score"
   ]
  },
  {
   "cell_type": "markdown",
   "metadata": {},
   "source": [
    "Compute solution here. Solution runner only executes `compute`."
   ]
  },
  {
   "cell_type": "code",
   "execution_count": null,
   "metadata": {},
   "outputs": [],
   "source": [
    "from copy import copy\n",
    "\n",
    "def monkey(parsed_input):\n",
    "    meta, contributors, projects = parsed_input\n",
    "    list_of_schedules = []\n",
    " \n",
    "    for p in projects:\n",
    "        available = copy(contributors)\n",
    "        temp_contributors = []\n",
    "        for r in p.requirements:\n",
    "            for c in available:\n",
    "                temp = list(filter(lambda x: x.name == r.name and x.level >= r.level, c.skills))\n",
    " \n",
    "                if len(temp) > 0:\n",
    "                    temp_contributors.append(c)\n",
    " \n",
    "                    available.remove(c)\n",
    " \n",
    "        if len(temp_contributors) == len(p.requirements):\n",
    "            list_of_schedules.append(Schedule(p.name, temp_contributors))\n",
    "    return list_of_schedules\n",
    "\n",
    "\n",
    "def compute_greedy(parsed_input):\n",
    "    \"\"\"\n",
    "    Greedy solution ...\n",
    "    \"\"\"\n",
    "    meta, contributors, projects = parsed_input\n",
    "    list_of_schedules = []\n",
    " \n",
    "    for p in projects:\n",
    "        available = copy(contributors)\n",
    "        temp_contributors = []\n",
    "        for r in p.requirements:\n",
    "            for c in available:\n",
    "                temp = list(filter(lambda x: x.name == r.name and x.level >= r.level, c.skills))\n",
    " \n",
    "                if len(temp) > 0:\n",
    "                    temp_contributors.append(c)\n",
    " \n",
    "                    available.remove(c)\n",
    " \n",
    "        if len(temp_contributors) == len(p.requirements):\n",
    "            list_of_schedules.append(Schedule(p.name, temp_contributors))\n",
    "    return list_of_schedules\n",
    "\n",
    "def enhance_solution(parsed_input, sol):\n",
    "    pass\n",
    "\n",
    "def compute(parsed_input):\n",
    "    FUNC_LOOKUP = {\n",
    "        'a': compute_greedy,\n",
    "        'b': compute_greedy,\n",
    "        'c': compute_greedy,\n",
    "        'd': compute_greedy,\n",
    "        'e': compute_greedy,\n",
    "        'f': compute_greedy\n",
    "    }\n",
    "    meta, contributors, projects = parsed_input\n",
    "    print(meta)\n",
    "    #print(contributors)\n",
    "    #print(projects)\n",
    "    sol = FUNC_LOOKUP[os.path.basename(meta.file_name)](parsed_input)\n",
    "    return sol"
   ]
  },
  {
   "cell_type": "markdown",
   "metadata": {},
   "source": [
    "Run"
   ]
  },
  {
   "cell_type": "code",
   "execution_count": null,
   "metadata": {
    "tags": []
   },
   "outputs": [],
   "source": [
    "s = new_sol()"
   ]
  },
  {
   "cell_type": "markdown",
   "metadata": {},
   "source": [
    "---"
   ]
  },
  {
   "cell_type": "markdown",
   "metadata": {},
   "source": [
    "### Example"
   ]
  },
  {
   "cell_type": "code",
   "execution_count": null,
   "metadata": {},
   "outputs": [],
   "source": [
    "f = os.path.join(INPUT_PATH, 'a')\n",
    "data = open(f).read().splitlines()\n",
    "data\n",
    "parsed_input = parse_input(f)\n",
    "meta, contributors, projects = parsed_input\n",
    "meta, contributors, projects"
   ]
  },
  {
   "cell_type": "code",
   "execution_count": null,
   "metadata": {},
   "outputs": [],
   "source": [
    "sol = compute(parsed_input)\n",
    "sol"
   ]
  },
  {
   "cell_type": "code",
   "execution_count": null,
   "metadata": {},
   "outputs": [],
   "source": [
    "score(parsed_input, sol)"
   ]
  },
  {
   "cell_type": "code",
   "execution_count": null,
   "metadata": {},
   "outputs": [],
   "source": [
    "meta, projects, contributors"
   ]
  },
  {
   "cell_type": "code",
   "execution_count": null,
   "metadata": {},
   "outputs": [],
   "source": [
    "sol = [Schedule(projects[1].name, [contributors[0], contributors[1]]),\n",
    " Schedule(projects[0].name, [contributors[0]]),\n",
    " Schedule(projects[2].name, [contributors[2], contributors[1]])]\n",
    "sol"
   ]
  },
  {
   "cell_type": "code",
   "execution_count": null,
   "metadata": {},
   "outputs": [],
   "source": [
    "meta, contributors, projects  = parsed_input\n",
    "max_time = max([p.best_before + p.num_days for p in projects])\n",
    "contributor_t2r = defaultdict(int)\n",
    "project_lookup = {p.name: p for p in projects}\n",
    "pending = set(s.name for s in sol)\n",
    "score = 0\n",
    "for t in range(max_time):\n",
    "    for s in sol:\n",
    "        if s.name in pending and all(contributor_t2r[c.id] == 0 for c in s.contributors):\n",
    "            # start project\n",
    "            pending.remove(s.name)\n",
    "            for c in s.contributors:\n",
    "                contributor_t2r[c.id] = project_lookup[s.name].num_days\n",
    "            delay = max(0, t + project_lookup[s.name].num_days - project_lookup[s.name].best_before)\n",
    "            print(f'[{t}] Running {s.name} that adds {project_lookup[s.name].score - delay} points')\n",
    "            score += max(0, project_lookup[s.name].score - delay)\n",
    "    for c, v in contributor_t2r.items():\n",
    "        contributor_t2r[c] = max(0, v - 1)\n",
    "score"
   ]
  }
 ],
 "metadata": {
  "@webio": {
   "lastCommId": null,
   "lastKernelId": null
  },
  "kernelspec": {
   "display_name": "Python 3 (ipykernel)",
   "language": "python",
   "name": "python3"
  },
  "language_info": {
   "codemirror_mode": {
    "name": "ipython",
    "version": 3
   },
   "file_extension": ".py",
   "mimetype": "text/x-python",
   "name": "python",
   "nbconvert_exporter": "python",
   "pygments_lexer": "ipython3",
   "version": "3.10.2"
  }
 },
 "nbformat": 4,
 "nbformat_minor": 4
}
