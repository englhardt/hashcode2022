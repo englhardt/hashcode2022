{
 "cells": [
  {
   "cell_type": "code",
   "execution_count": 1,
   "metadata": {},
   "outputs": [],
   "source": [
    "import os\n",
    "import itertools\n",
    "import multiprocessing\n",
    "from collections import namedtuple\n",
    "from operator import itemgetter\n",
    "from tqdm import tqdm\n",
    "from shutil import copyfile\n",
    "from datetime import datetime\n",
    "import pickle\n",
    "import random\n",
    "import operator\n",
    "from IPython.display import Javascript\n",
    "from collections import Counter, defaultdict\n",
    "import math\n",
    "import pandas as pd\n",
    "from copy import deepcopy\n",
    "\n",
    "save = '''\n",
    "require([\"base/js/namespace\"],function(Jupyter) {\n",
    "    Jupyter.notebook.save_checkpoint();\n",
    "});\n",
    "'''"
   ]
  },
  {
   "cell_type": "code",
   "execution_count": 2,
   "metadata": {},
   "outputs": [],
   "source": [
    "INPUT_PATH = os.path.join(\"practice\", \"data\")\n",
    "ROOT_OUTPUT_PATH = os.path.join(\"practice\", \"solutions\")\n",
    "OUTPUT_PATH = os.path.join(ROOT_OUTPUT_PATH, \"test\")\n",
    "NB_NAME = 'hashcode2022_practice_round.ipynb'\n",
    "SOLUTION_NAMES = nouns = ['people','history','way','art','world','information','map','two','family','government','health','system','computer','meat','year','thanks','music','person','reading','method','data','food','understanding','theory','law','bird','literature','problem','software','control','knowledge','power','ability','economics','love','internet','television','science','library','nature','fact','product','idea','temperature','investment','area','society','activity','story','industry','media','thing','oven','community','definition','safety','quality','development','language','management','player','variety','video','week','security','country','exam','movie','organization','equipment','physics','analysis','policy','series','thought','basis','boyfriend','direction','strategy','technology','army','camera','freedom','paper','environment','child','instance','month','truth','marketing','university','writing','article','department','difference','goal','news','audience','fishing','growth','income','marriage','user','combination','failure','meaning','medicine','philosophy','teacher','communication','night','chemistry','disease','disk','energy','nation','road','role','soup','advertising','location','success','addition','apartment','education','math','moment','painting','politics','attention','decision','event','property','shopping','student','wood','competition','distribution','entertainment','office','population','president','unit','category','cigarette','context','introduction','opportunity','performance','driver','flight','length','magazine','newspaper','relationship','teaching','cell','dealer','debate','finding','lake','member','message','phone','scene','appearance','association','concept','customer','death','discussion','housing','inflation','insurance','mood','woman','advice','blood','effort','expression','importance','opinion','payment','reality','responsibility','situation','skill','statement','wealth','application','city','county','depth','estate','foundation','grandmother','heart','perspective','photo','recipe','studio','topic','collection','depression','imagination','passion','percentage','resource','setting','ad','agency','college','connection','criticism','debt','description','memory','patience','secretary','solution','administration','aspect','attitude','director','personality','psychology','recommendation','response','selection','storage','version','alcohol','argument','complaint','contract','emphasis','highway','loss','membership','possession','preparation','steak','union','agreement','cancer','currency','employment','engineering','entry','interaction','limit','mixture','preference','region','republic','seat','tradition','virus','actor','classroom','delivery','device','difficulty','drama','election','engine','football','guidance','hotel','match','owner','priority','protection','suggestion','tension','variation','anxiety','atmosphere','awareness','bread','climate','comparison','confusion','construction','elevator','emotion','employee','employer','guest','height','leadership','mall','manager','operation','recording','respect','sample','transportation','boring','charity','cousin','disaster','editor','efficiency','excitement','extent','feedback','guitar','homework','leader','mom','outcome','permission','presentation','promotion','reflection','refrigerator','resolution','revenue','session','singer','tennis','basket','bonus','cabinet','childhood','church','clothes','coffee','dinner','drawing','hair','hearing','initiative','judgment','lab','measurement','mode','mud','orange','poetry','police','possibility','procedure','queen','ratio','relation','restaurant','satisfaction','sector','signature','significance','song','tooth','town','vehicle','volume','wife','accident','airport','appointment','arrival','assumption','baseball','chapter','committee','conversation','database','enthusiasm','error','explanation','farmer','gate','girl','hall','historian','hospital','injury','instruction','maintenance','manufacturer','meal','perception','pie','poem','presence','proposal','reception','replacement','revolution','river','son','speech','tea','village','warning','winner','worker','writer','assistance','breath','buyer','chest','chocolate','conclusion','contribution','cookie','courage','dad','desk','drawer','establishment','examination','garbage','grocery','honey','impression','improvement','independence','insect','inspection','inspector','king','ladder','menu','penalty','piano','potato','profession','professor','quantity','reaction','requirement','salad','sister','supermarket','tongue','weakness','wedding','affair','ambition','analyst','apple','assignment','assistant','bathroom','bedroom','beer','birthday','celebration','championship','cheek','client','consequence','departure','diamond','dirt','ear','fortune','friendship','funeral','gene','girlfriend','hat','indication','intention','lady','midnight','negotiation','obligation','passenger','pizza','platform','poet','pollution','recognition','reputation','shirt','sir','speaker','stranger','surgery','sympathy','tale','throat','trainer','uncle','youth','time','work','film','water','money','example','while','business','study','game','life','form','air','day','place','number','part','field','fish','back','process','heat','hand','experience','job','book','end','point','type','home','economy','value','body','market','guide','interest','state','radio','course','company','price','size','card','list','mind','trade','line','care','group','risk','word','fat','force','key','light','training','name','school','top','amount','level','order','practice','research','sense','service','piece','web','boss','sport','fun','house','page','term','test','answer','sound','focus','matter','kind','soil','board','oil','picture','access','garden','range','rate','reason','future','site','demand','exercise','image','case','cause','coast','action','age','bad','boat','record','result','section','building','mouse','cash','class','nothing','period','plan','store','tax','side','subject','space','rule','stock','weather','chance','figure','man','model','source','beginning','earth','program','chicken','design','feature','head','material','purpose','question','rock','salt','act','birth','car','dog','object','scale','sun','note','profit','rent','speed','style','war','bank','craft','half','inside','outside','standard','bus','exchange','eye','fire','position','pressure','stress','advantage','benefit','box','frame','issue','step','cycle','face','item','metal','paint','review','room','screen','structure','view','account','ball','discipline','medium','share','balance','bit','black','bottom','choice','gift','impact','machine','shape','tool','wind','address','average','career','culture','morning','pot','sign','table','task','condition','contact','credit','egg','hope','ice','network','north','square','attempt','date','effect','link','post','star','voice','capital','challenge','friend','self','shot','brush','couple','exit','front','function','lack','living','plant','plastic','spot','summer','taste','theme','track','wing','brain','button','click','desire','foot','gas','influence','notice','rain','wall','base','damage','distance','feeling','pair','savings','staff','sugar','target','text','animal','author','budget','discount','file','ground','lesson','minute','officer','phase','reference','register','sky','stage','stick','title','trouble','bowl','bridge','campaign','character','club','edge','evidence','fan','letter','lock','maximum','novel','option','pack','park','plenty','quarter','skin','sort','weight','baby','background','carry','dish','factor','fruit','glass','joint','master','muscle','red','strength','traffic','trip','vegetable','appeal','chart','gear','ideal','kitchen','land','log','mother','net','party','principle','relative','sale','season','signal','spirit','street','tree','wave','belt','bench','commission','copy','drop','minimum','path','progress','project','sea','south','status','stuff','ticket','tour','angle','blue','breakfast','confidence','daughter','degree','doctor','dot','dream','duty','essay','father','fee','finance','hour','juice','luck','milk','mouth','peace','pipe','stable','storm','substance','team','trick','afternoon','bat','beach','blank','catch','chain','consideration','cream','crew','detail','gold','interview','kid','mark','mission','pain','pleasure','score','screw','sex','shop','shower','suit','tone','window','agent','band','bath','block','bone','calendar','candidate','cap','coat','contest','corner','court','cup','district','door','east','finger','garage','guarantee','hole','hook','implement','layer','lecture','lie','manner','meeting','nose','parking','partner','profile','rice','routine','schedule','swimming','telephone','tip','winter','airline','bag','battle','bed','bill','bother','cake','code','curve','designer','dimension','dress','ease','emergency','evening','extension','farm','fight','gap','grade','holiday','horror','horse','host','husband','loan','mistake','mountain','nail','noise','occasion','package','patient','pause','phrase','proof','race','relief','sand','sentence','shoulder','smoke','stomach','string','tourist','towel','vacation','west','wheel','wine','arm','aside','associate','bet','blow','border','branch','breast','brother','buddy','bunch','chip','coach','cross','document','draft','dust','expert','floor','god','golf','habit','iron','judge','knife','landscape','league','mail','mess','native','opening','parent','pattern','pin','pool','pound','request','salary','shame','shelter','shoe','silver','tackle','tank','trust','assist','bake','bar','bell','bike','blame','boy','brick','chair','closet','clue','collar','comment','conference','devil','diet','fear','fuel','glove','jacket','lunch','monitor','mortgage','nurse','pace','panic','peak','plane','reward','row','sandwich','shock','spite','spray','surprise','till','transition','weekend','welcome','yard','alarm','bend','bicycle','bite','blind','bottle','cable','candle','clerk','cloud','concert','counter','flower','grandfather','harm','knee','lawyer','leather','load','mirror','neck','pension','plate','purple','ruin','ship','skirt','slice','snow','specialist','stroke','switch','trash','tune','zone','anger','award','bid','bitter','boot','bug','camp','candy','carpet','cat','champion','channel','clock','comfort','cow','crack','engineer','entrance','fault','grass','guy','hell','highlight','incident','island','joke','jury','leg','lip','mate','motor','nerve','passage','pen','pride','priest','prize','promise','resident','resort','ring','roof','rope','sail','scheme','script','sock','station','toe','tower','truck','witness','a','you','it','can','will','if','one','many','most','other','use','make','good','look','help','go','great','being','few','might','still','public','read','keep','start','give','human','local','general','she','specific','long','play','feel','high','tonight','put','common','set','change','simple','past','big','possible','particular','today','major','personal','current','national','cut','natural','physical','show','try','check','second','call','move','pay','let','increase','single','individual','turn','ask','buy','guard','hold','main','offer','potential','professional','international','travel','cook','alternative','following','special','working','whole','dance','excuse','cold','commercial','low','purchase','deal','primary','worth','fall','necessary','positive','produce','search','present','spend','talk','creative','tell','cost','drive','green','support','glad','remove','return','run','complex','due','effective','middle','regular','reserve','independent','leave','original','reach','rest','serve','watch','beautiful','charge','active','break','negative','safe','stay','visit','visual','affect','cover','report','rise','walk','white','beyond','junior','pick','unique','anything','classic','final','lift','mix','private','stop','teach','western','concern','familiar','fly','official','broad','comfortable','gain','maybe','rich','save','stand','young','heavy','hello','lead','listen','valuable','worry','handle','leading','meet','release','sell','finish','normal','press','ride','secret','spread','spring','tough','wait','brown','deep','display','flow','hit','objective','shoot','touch','cancel','chemical','cry','dump','extreme','push','conflict','eat','fill','formal','jump','kick','opposite','pass','pitch','remote','total','treat','vast','abuse','beat','burn','deposit','print','raise','sleep','somewhere','advance','anywhere','consist','dark','double','draw','equal','fix','hire','internal','join','kill','sensitive','tap','win','attack','claim','constant','drag','drink','guess','minor','pull','raw','soft','solid','wear','weird','wonder','annual','count','dead','doubt','feed','forever','impress','nobody','repeat','round','sing','slide','strip','whereas','wish','combine','command','dig','divide','equivalent','hang','hunt','initial','march','mention','spiritual','survey','tie','adult','brief','crazy','escape','gather','hate','prior','repair','rough','sad','scratch','sick','strike','employ','external','hurt','illegal','laugh','lay','mobile','nasty','ordinary','respond','royal','senior','split','strain','struggle','swim','train','upper','wash','yellow','convert','crash','dependent','fold','funny','grab','hide','miss','permit','quote','recover','resolve','roll','sink','slip','spare','suspect','sweet','swing','twist','upstairs','usual','abroad','brave','calm','concentrate','estimate','grand','male','mine','prompt','quiet','refuse','regret','reveal','rush','shake','shift','shine','steal','suck','surround','anybody','bear','brilliant','dare','dear','delay','drunk','female','hurry','inevitable','invite','kiss','neat','pop','punch','quit','reply','representative','resist','rip','rub','silly','smile','spell','stretch','stupid','tear','temporary','tomorrow','wake','wrap','yesterday']\n",
    "global INPUT_PATH, ROOT_OUTPUT_PATH, OUTPUT_PATH, NB_NAME"
   ]
  },
  {
   "cell_type": "markdown",
   "metadata": {},
   "source": [
    "Solution runner and writer."
   ]
  },
  {
   "cell_type": "code",
   "execution_count": 3,
   "metadata": {},
   "outputs": [],
   "source": [
    "def mk_output_dir():\n",
    "    now = datetime.now()\n",
    "    current_time = now.strftime(\"%H%M%S\")\n",
    "    simple_name = SOLUTION_NAMES[len(os.listdir(ROOT_OUTPUT_PATH))]\n",
    "    OUTPUT_PATH = os.path.join(ROOT_OUTPUT_PATH, f\"{current_time}_{simple_name}_{abs(hash(datetime.now()))})\")\n",
    "    os.makedirs(OUTPUT_PATH, exist_ok=True)\n",
    "    return OUTPUT_PATH\n",
    "\n",
    "def write_bresult(s):\n",
    "    with open(os.path.join(OUTPUT_PATH, \"res.pkl\"), \"wb\") as f:\n",
    "        pickle.dump(s, f)\n",
    "\n",
    "def load_bresult(s):\n",
    "    with open(os.path.join(ROOT_OUTPUT_PATH, s, \"res.pkl\"), \"rb\") as f:\n",
    "        return pickle.load(f)\n",
    "\n",
    "def run(i):\n",
    "    parsed_input = parse_input(os.path.join(INPUT_PATH, i))\n",
    "    s = compute(parsed_input)\n",
    "    v = score(parsed_input, s)\n",
    "    print(f\"%s: \\t\\t{v:,}\" % (i.split(\"_\")[0]))\n",
    "    with open(os.path.join(OUTPUT_PATH, f\"{i}_result\"), \"w\") as f:\n",
    "        f.writelines(map(lambda x: f\"{x}\\n\", format_output(s)))\n",
    "    return s, v\n",
    "\n",
    "def new_sol(x=None):\n",
    "    global OUTPUT_PATH\n",
    "    OUTPUT_PATH = mk_output_dir()\n",
    "    files = sorted([x for x in os.listdir(INPUT_PATH) if not x.startswith(\".\")])\n",
    "    if x is not None:\n",
    "        files = [f for f in files if f.startswith(x)]\n",
    "    print(files)\n",
    "    # multiprocessing\n",
    "    #pool = multiprocessing.Pool(processes=len(files))\n",
    "    #res = pool.map(run, files)\n",
    "    #pool.close()\n",
    "    # sequential\n",
    "    res = list(map(run, files))\n",
    "    s, scores = list(map(itemgetter(0), res)), list(map(itemgetter(1), res))\n",
    "    print(f\"------------------------------------\")\n",
    "    print(f\"Total: \\t\\t{sum(scores):,}\")\n",
    "    write_bresult(s)\n",
    "    Javascript(save)\n",
    "    copyfile(os.path.join(os.getcwd(), NB_NAME), os.path.join(OUTPUT_PATH, NB_NAME))\n",
    "    return s"
   ]
  },
  {
   "cell_type": "markdown",
   "metadata": {},
   "source": [
    "---"
   ]
  },
  {
   "cell_type": "markdown",
   "metadata": {},
   "source": [
    "Data structures"
   ]
  },
  {
   "cell_type": "code",
   "execution_count": 4,
   "metadata": {},
   "outputs": [],
   "source": [
    "Meta = namedtuple('Meta', 'file_name num_clients')\n",
    "Client = namedtuple('Client', 'id likes dislikes')\n",
    "Order = namedtuple('Order', 'ingredients')"
   ]
  },
  {
   "cell_type": "markdown",
   "metadata": {},
   "source": [
    "Input parsing and output formatting (not writing)"
   ]
  },
  {
   "cell_type": "code",
   "execution_count": 5,
   "metadata": {},
   "outputs": [],
   "source": [
    "def parse_pref(line):\n",
    "    raw = line.split()\n",
    "    num_ings = int(raw[0])\n",
    "    return set(raw[1:]) if num_ings else set()\n",
    "\n",
    "def parse_input(fname):\n",
    "    with open(fname) as f:\n",
    "        data = f.read().splitlines()\n",
    "        num_clients = int(data[0])\n",
    "        clients = []\n",
    "        for i in range(num_clients):\n",
    "            likes = parse_pref(data[1 + i * 2])\n",
    "            dislikes = parse_pref(data[1 + i * 2 + 1])\n",
    "            clients.append(Client(i, likes, dislikes))\n",
    "        return Meta(fname, len(clients)), clients\n",
    "\n",
    "def format_output(out):\n",
    "    return f'{len(out.ingredients)} ' + ' '.join(out.ingredients)"
   ]
  },
  {
   "cell_type": "markdown",
   "metadata": {},
   "source": [
    "Scoring function"
   ]
  },
  {
   "cell_type": "code",
   "execution_count": 6,
   "metadata": {},
   "outputs": [],
   "source": [
    "def score(parsed_input, sol):\n",
    "    _, clients = parsed_input\n",
    "    s = 0\n",
    "    for c in clients:\n",
    "        s += c.likes <= sol.ingredients and not c.dislikes.intersection(sol.ingredients)\n",
    "    return s"
   ]
  },
  {
   "cell_type": "markdown",
   "metadata": {},
   "source": [
    "Compute solution here. Solution runner only executes `compute`."
   ]
  },
  {
   "cell_type": "code",
   "execution_count": 7,
   "metadata": {},
   "outputs": [],
   "source": [
    "from collections import Counter\n",
    "\n",
    "def compute_random(parsed_input):\n",
    "    \"\"\"\n",
    "    Randomly select ingredients and test.\n",
    "    \"\"\"\n",
    "    PARAMS = defaultdict(lambda: 500)\n",
    "    _, clients = parsed_input\n",
    "    like_stats = Counter(x for c in clients for x in c.likes)\n",
    "    dislike_stats = Counter(x for c in clients for x in c.dislikes)\n",
    "    all_ings = list(set(like_stats.keys()).union(dislike_stats.keys()))\n",
    "    num_ings = len(all_ings)\n",
    "    best_order, best_score = set(), -1\n",
    "    for _ in range(PARAMS[meta.file_name]):\n",
    "        o = Order(set(random.sample(all_ings, random.randint(0, num_ings))))\n",
    "        if s := score(parsed_input, o) > best_score:\n",
    "            best_order, best_score = o, s\n",
    "    return best_order\n",
    "\n",
    "def compute_greedy_ings(parsed_input):\n",
    "    \"\"\"\n",
    "    Sort likes and dislikes by amount of occurence.\n",
    "    Compute value per ingredient based on these counts.\n",
    "    Build order greedy based on this value.\n",
    "    \"\"\"\n",
    "    _, clients = parsed_input\n",
    "    like_stats = Counter(x for c in clients for x in c.likes)\n",
    "    dislike_stats = Counter(x for c in clients for x in c.dislikes)\n",
    "    all_ings = set(like_stats.keys()).union(dislike_stats.keys())\n",
    "    ing_value = {ing: like_stats[ing] - dislike_stats[ing] for ing in all_ings}\n",
    "    sorted_ings = [x[0] for x in sorted(ing_value.items(), key=itemgetter(1), reverse=True)]\n",
    "    best_order, best_score = set(), -1\n",
    "    for i in range(len(sorted_ings)):\n",
    "        o = Order(set(sorted_ings[:i]))\n",
    "        if s := score(parsed_input, o) > best_score:\n",
    "            best_order, best_score = o, s\n",
    "    return best_order\n",
    "\n",
    "def build_from_client_k(clients, k):\n",
    "    likes = clients[k].likes.copy()\n",
    "    dislikes = clients[k].dislikes.copy()\n",
    "    for i, c in enumerate(clients):\n",
    "        if i != k and not c.dislikes.intersection(likes):\n",
    "            likes.update(c.likes)\n",
    "            dislikes.update(c.dislikes)\n",
    "    return Order(likes)\n",
    "\n",
    "def compute_greedy_all(parsed_input):\n",
    "    \"\"\"\n",
    "    Try to build from each client\n",
    "    \"\"\"\n",
    "    _, clients = parsed_input\n",
    "    best_order, best_score = set(), -1\n",
    "    for k in range(len(clients)):\n",
    "        o = build_from_client_k(clients, k)\n",
    "        if s := score(parsed_input, o) > best_score:\n",
    "            best_order, best_score = o, s\n",
    "    return best_order\n",
    "\n",
    "def compute_greedy(parsed_input):\n",
    "    \"\"\"\n",
    "    Sort clients by amount of likes and dislikes ascending.\n",
    "    Iteratively build order from easiest customer.\n",
    "    \"\"\"\n",
    "    _, clients = parsed_input\n",
    "    clients_sorted = sorted(clients, key=lambda c: len(c.likes) + len(c.dislikes))\n",
    "    return build_from_client_k(clients, clients_sorted[0].id)\n",
    "\n",
    "def enhance_solution(parsed_input, sol):\n",
    "    pass\n",
    "\n",
    "def compute(parsed_input):\n",
    "    FUNC_LOOKUP = {\n",
    "        'a': compute_greedy,\n",
    "        'b': compute_greedy,\n",
    "        'c': compute_greedy,\n",
    "        'd': compute_greedy,\n",
    "        'e': compute_greedy\n",
    "    }\n",
    "    meta, _ = parsed_input\n",
    "    sol = FUNC_LOOKUP[os.path.basename(meta.file_name)](parsed_input)\n",
    "    return sol"
   ]
  },
  {
   "cell_type": "markdown",
   "metadata": {},
   "source": [
    "Run"
   ]
  },
  {
   "cell_type": "code",
   "execution_count": 8,
   "metadata": {
    "tags": []
   },
   "outputs": [
    {
     "name": "stdout",
     "output_type": "stream",
     "text": [
      "['a', 'b', 'c', 'd', 'e']\n",
      "a: \t\t2\n",
      "b: \t\t5\n",
      "c: \t\t3\n",
      "d: \t\t1,441\n",
      "e: \t\t1,433\n",
      "------------------------------------\n",
      "Total: \t\t2,884\n"
     ]
    }
   ],
   "source": [
    "s = new_sol()"
   ]
  },
  {
   "cell_type": "markdown",
   "metadata": {},
   "source": [
    "---"
   ]
  },
  {
   "cell_type": "markdown",
   "metadata": {},
   "source": [
    "### Example"
   ]
  },
  {
   "cell_type": "code",
   "execution_count": 9,
   "metadata": {},
   "outputs": [
    {
     "data": {
      "text/plain": [
       "(Meta(file_name='practice/data/a', num_clients=3),\n",
       " [Client(id=0, likes={'cheese', 'peppers'}, dislikes=set()),\n",
       "  Client(id=1, likes={'basil'}, dislikes={'pineapple'}),\n",
       "  Client(id=2, likes={'mushrooms', 'tomatoes'}, dislikes={'basil'})])"
      ]
     },
     "execution_count": 9,
     "metadata": {},
     "output_type": "execute_result"
    }
   ],
   "source": [
    "f = os.path.join(INPUT_PATH, 'a')\n",
    "data = open(f).read().splitlines()\n",
    "data\n",
    "parsed_input = parse_input(f)\n",
    "meta, clients = parsed_input\n",
    "meta, clients"
   ]
  },
  {
   "cell_type": "code",
   "execution_count": 10,
   "metadata": {},
   "outputs": [
    {
     "data": {
      "text/plain": [
       "Order(ingredients={'cheese', 'basil', 'peppers', 'mushrooms', 'tomatoes'})"
      ]
     },
     "execution_count": 10,
     "metadata": {},
     "output_type": "execute_result"
    }
   ],
   "source": [
    "sol = compute_random(parsed_input)\n",
    "sol"
   ]
  },
  {
   "cell_type": "code",
   "execution_count": 11,
   "metadata": {},
   "outputs": [
    {
     "data": {
      "text/plain": [
       "2"
      ]
     },
     "execution_count": 11,
     "metadata": {},
     "output_type": "execute_result"
    }
   ],
   "source": [
    "score(parsed_input, sol)"
   ]
  }
 ],
 "metadata": {
  "@webio": {
   "lastCommId": null,
   "lastKernelId": null
  },
  "kernelspec": {
   "display_name": "Python 3 (ipykernel)",
   "language": "python",
   "name": "python3"
  },
  "language_info": {
   "codemirror_mode": {
    "name": "ipython",
    "version": 3
   },
   "file_extension": ".py",
   "mimetype": "text/x-python",
   "name": "python",
   "nbconvert_exporter": "python",
   "pygments_lexer": "ipython3",
   "version": "3.10.2"
  }
 },
 "nbformat": 4,
 "nbformat_minor": 4
}
